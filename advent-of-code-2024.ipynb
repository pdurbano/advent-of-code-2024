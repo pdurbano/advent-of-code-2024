{
 "cells": [
  {
   "cell_type": "markdown",
   "metadata": {},
   "source": [
    "# Advent of Code 2024"
   ]
  },
  {
   "cell_type": "markdown",
   "metadata": {},
   "source": [
    "## --- Day 1: Historian Hysteria ---"
   ]
  },
  {
   "cell_type": "code",
   "execution_count": 3,
   "metadata": {},
   "outputs": [
    {
     "name": "stdout",
     "output_type": "stream",
     "text": [
      "Part 1 Result: 2904518\n"
     ]
    }
   ],
   "source": [
    "with open('day_1_input.txt') as input:\n",
    "    lines = [line.rstrip() for line in input.readlines()]\n",
    "\n",
    "line_pairs = [tuple(int(num) for num in line.split()) for line in lines]\n",
    "list1, list2 = [sorted(list(x)) for x in zip(*line_pairs)]\n",
    "# print(list1, list2)\n",
    "\n",
    "diffs = [abs(val1 - val2) for val1, val2 in zip(list1, list2)]\n",
    "# print(diffs)\n",
    "\n",
    "print(\"Part 1 Result:\", sum(diffs))"
   ]
  },
  {
   "cell_type": "code",
   "execution_count": 4,
   "metadata": {},
   "outputs": [
    {
     "name": "stdout",
     "output_type": "stream",
     "text": [
      "Part 2 Result: 18650129\n"
     ]
    }
   ],
   "source": [
    "scores = [(val1 * sum([val2 == val1 for val2 in list2])) for val1 in list1]\n",
    "# print(scores)\n",
    "\n",
    "print(\"Part 2 Result:\", sum(scores))"
   ]
  }
 ],
 "metadata": {
  "kernelspec": {
   "display_name": "Python 3",
   "language": "python",
   "name": "python3"
  },
  "language_info": {
   "codemirror_mode": {
    "name": "ipython",
    "version": 3
   },
   "file_extension": ".py",
   "mimetype": "text/x-python",
   "name": "python",
   "nbconvert_exporter": "python",
   "pygments_lexer": "ipython3",
   "version": "3.9.6"
  }
 },
 "nbformat": 4,
 "nbformat_minor": 2
}
