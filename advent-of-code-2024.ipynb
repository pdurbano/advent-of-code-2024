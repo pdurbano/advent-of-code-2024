{
 "cells": [
  {
   "cell_type": "markdown",
   "metadata": {},
   "source": [
    "# Advent of Code 2024"
   ]
  },
  {
   "cell_type": "markdown",
   "metadata": {},
   "source": [
    "## --- Day 1: Historian Hysteria ---"
   ]
  },
  {
   "cell_type": "code",
   "execution_count": 1,
   "metadata": {},
   "outputs": [
    {
     "name": "stdout",
     "output_type": "stream",
     "text": [
      "Part 1 Result: 2904518\n"
     ]
    }
   ],
   "source": [
    "with open('day_1_input.txt') as input:\n",
    "    lines = [line.rstrip() for line in input.readlines()]\n",
    "\n",
    "line_pairs = [tuple(int(num) for num in line.split()) for line in lines]\n",
    "list1, list2 = [sorted(list(x)) for x in zip(*line_pairs)]\n",
    "# print(list1, list2)\n",
    "\n",
    "diffs = [abs(val1 - val2) for val1, val2 in zip(list1, list2)]\n",
    "# print(diffs)\n",
    "\n",
    "print(\"Part 1 Result:\", sum(diffs))"
   ]
  },
  {
   "cell_type": "code",
   "execution_count": 2,
   "metadata": {},
   "outputs": [
    {
     "name": "stdout",
     "output_type": "stream",
     "text": [
      "Part 2 Result: 18650129\n"
     ]
    }
   ],
   "source": [
    "scores = [(val1 * sum([val2 == val1 for val2 in list2])) for val1 in list1]\n",
    "# print(scores)\n",
    "\n",
    "print(\"Part 2 Result:\", sum(scores))"
   ]
  },
  {
   "cell_type": "markdown",
   "metadata": {},
   "source": [
    "## --- Day 2: Red-Nosed Reports ---"
   ]
  },
  {
   "cell_type": "code",
   "execution_count": 3,
   "metadata": {},
   "outputs": [
    {
     "name": "stdout",
     "output_type": "stream",
     "text": [
      "Part 1 Result: 334\n"
     ]
    }
   ],
   "source": [
    "with open('day_2_input.txt') as input:\n",
    "    lines = [line.rstrip() for line in input.readlines()]\n",
    "\n",
    "reports = [[int(num) for num in line.split()] for line in lines]\n",
    "# print(reports)\n",
    "\n",
    "diffs = [[y - x for x, y in zip(report[:-1], report[1:])] for report in reports]\n",
    "# print(diffs)\n",
    "\n",
    "steps = [[min(abs(val), 4) for val in diff] for diff in diffs]\n",
    "# print(steps)\n",
    "\n",
    "unsafe_steps = [4 in step or 0 in step for step in steps]\n",
    "# print(unsafe_steps)\n",
    "\n",
    "unsafe_changes = [abs(sum([int(val > 0) - int(val < 0) for val in diff])) != len(diff) for diff in diffs]\n",
    "# print(unsafe_changes)\n",
    "\n",
    "safe = [not unsafe_step and not unsafe_change for unsafe_step, unsafe_change in zip(unsafe_steps, unsafe_changes)]\n",
    "# print(safe)\n",
    "\n",
    "print(\"Part 1 Result:\", sum(safe))"
   ]
  },
  {
   "cell_type": "code",
   "execution_count": 4,
   "metadata": {},
   "outputs": [
    {
     "name": "stdout",
     "output_type": "stream",
     "text": [
      "Part 2 Result: 400\n"
     ]
    }
   ],
   "source": [
    "def check_for_bad_report(report):\n",
    "    diff = [y - x for x, y in zip(report[:-1], report[1:])]\n",
    "    return any(abs(val) > 3 or val == 0 or val * diff[0] < 0 for val in diff)\n",
    "\n",
    "tally = 0\n",
    "for report in reports:\n",
    "    if not check_for_bad_report(report):\n",
    "        tally += 1\n",
    "        continue\n",
    "\n",
    "    for n in range(len(report)):\n",
    "        new_report = [val for pos, val in enumerate(report) if pos != n]\n",
    "        if not check_for_bad_report(new_report):\n",
    "            tally += 1\n",
    "            break\n",
    "    \n",
    "print(\"Part 2 Result:\", tally)"
   ]
  }
 ],
 "metadata": {
  "kernelspec": {
   "display_name": "Python 3",
   "language": "python",
   "name": "python3"
  },
  "language_info": {
   "codemirror_mode": {
    "name": "ipython",
    "version": 3
   },
   "file_extension": ".py",
   "mimetype": "text/x-python",
   "name": "python",
   "nbconvert_exporter": "python",
   "pygments_lexer": "ipython3",
   "version": "3.9.6"
  }
 },
 "nbformat": 4,
 "nbformat_minor": 2
}
