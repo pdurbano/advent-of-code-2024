{
 "cells": [
  {
   "cell_type": "markdown",
   "metadata": {},
   "source": [
    "# Advent of Code 2024"
   ]
  },
  {
   "cell_type": "markdown",
   "metadata": {},
   "source": [
    "## --- Day 1: Historian Hysteria ---"
   ]
  },
  {
   "cell_type": "code",
   "execution_count": 1,
   "metadata": {},
   "outputs": [
    {
     "name": "stdout",
     "output_type": "stream",
     "text": [
      "Part 1 Result: 2904518\n"
     ]
    }
   ],
   "source": [
    "with open('day_1_input.txt') as input:\n",
    "    lines = [line.rstrip() for line in input.readlines()]\n",
    "\n",
    "line_pairs = [tuple(int(num) for num in line.split()) for line in lines]\n",
    "list1, list2 = [sorted(list(x)) for x in zip(*line_pairs)]\n",
    "# print(list1, list2)\n",
    "\n",
    "diffs = [abs(val1 - val2) for val1, val2 in zip(list1, list2)]\n",
    "# print(diffs)\n",
    "\n",
    "print(\"Part 1 Result:\", sum(diffs))"
   ]
  },
  {
   "cell_type": "code",
   "execution_count": 2,
   "metadata": {},
   "outputs": [
    {
     "name": "stdout",
     "output_type": "stream",
     "text": [
      "Part 2 Result: 18650129\n"
     ]
    }
   ],
   "source": [
    "scores = [(val1 * sum([val2 == val1 for val2 in list2])) for val1 in list1]\n",
    "# print(scores)\n",
    "\n",
    "print(\"Part 2 Result:\", sum(scores))"
   ]
  },
  {
   "cell_type": "markdown",
   "metadata": {},
   "source": [
    "## --- Day 2: Red-Nosed Reports ---"
   ]
  },
  {
   "cell_type": "code",
   "execution_count": 3,
   "metadata": {},
   "outputs": [
    {
     "name": "stdout",
     "output_type": "stream",
     "text": [
      "Part 1 Result: 334\n"
     ]
    }
   ],
   "source": [
    "with open('day_2_input.txt') as input:\n",
    "    lines = [line.rstrip() for line in input.readlines()]\n",
    "\n",
    "reports = [[int(num) for num in line.split()] for line in lines]\n",
    "# print(reports)\n",
    "\n",
    "diffs = [[y - x for x, y in zip(report[:-1], report[1:])] for report in reports]\n",
    "# print(diffs)\n",
    "\n",
    "steps = [[min(abs(val), 4) for val in diff] for diff in diffs]\n",
    "# print(steps)\n",
    "\n",
    "unsafe_steps = [4 in step or 0 in step for step in steps]\n",
    "# print(unsafe_steps)\n",
    "\n",
    "unsafe_changes = [abs(sum([int(val > 0) - int(val < 0) for val in diff])) != len(diff) for diff in diffs]\n",
    "# print(unsafe_changes)\n",
    "\n",
    "safe = [not unsafe_step and not unsafe_change for unsafe_step, unsafe_change in zip(unsafe_steps, unsafe_changes)]\n",
    "# print(safe)\n",
    "\n",
    "print(\"Part 1 Result:\", sum(safe))"
   ]
  },
  {
   "cell_type": "code",
   "execution_count": 4,
   "metadata": {},
   "outputs": [
    {
     "name": "stdout",
     "output_type": "stream",
     "text": [
      "Part 2 Result: 400\n"
     ]
    }
   ],
   "source": [
    "def check_for_bad_report(report):\n",
    "    diff = [y - x for x, y in zip(report[:-1], report[1:])]\n",
    "    return any(abs(val) > 3 or val == 0 or val * diff[0] < 0 for val in diff)\n",
    "\n",
    "tally = 0\n",
    "for report in reports:\n",
    "    if not check_for_bad_report(report):\n",
    "        tally += 1\n",
    "        continue\n",
    "\n",
    "    for n in range(len(report)):\n",
    "        new_report = [val for pos, val in enumerate(report) if pos != n]\n",
    "        if not check_for_bad_report(new_report):\n",
    "            tally += 1\n",
    "            break\n",
    "    \n",
    "print(\"Part 2 Result:\", tally)"
   ]
  },
  {
   "cell_type": "markdown",
   "metadata": {},
   "source": [
    "## --- Day 3: Mull It Over ---"
   ]
  },
  {
   "cell_type": "code",
   "execution_count": 5,
   "metadata": {},
   "outputs": [
    {
     "name": "stdout",
     "output_type": "stream",
     "text": [
      "Part 1 Result: 167650499\n"
     ]
    }
   ],
   "source": [
    "with open('day_3_input.txt') as input:\n",
    "    data = input.read()\n",
    "\n",
    "def mul_and_sum(text):\n",
    "    candidates = [segment.split(')')[0].split(',') for segment in text.split('mul(')]\n",
    "    candidates = [candidate for candidate in candidates if len(candidate) == 2]\n",
    "    products = [int(candidate[0]) * int(candidate[1]) for candidate in candidates if candidate[0].isdigit() and candidate[1].isdigit()]\n",
    "    return sum(products)\n",
    "\n",
    "print(\"Part 1 Result:\", mul_and_sum(data))"
   ]
  },
  {
   "cell_type": "code",
   "execution_count": 6,
   "metadata": {},
   "outputs": [
    {
     "name": "stdout",
     "output_type": "stream",
     "text": [
      "Part 2 Result: 95846796\n"
     ]
    }
   ],
   "source": [
    "segments = data.split(\"don't()\")\n",
    "result = mul_and_sum(segments[0])\n",
    "for segment in segments[1:]:\n",
    "    for subsegment in segment.split('do()')[1:]:\n",
    "        result += mul_and_sum(subsegment)\n",
    "\n",
    "print(\"Part 2 Result:\", result)"
   ]
  },
  {
   "cell_type": "markdown",
   "metadata": {},
   "source": [
    "## --- Day 4: Ceres Search ---"
   ]
  },
  {
   "cell_type": "code",
   "execution_count": 7,
   "metadata": {},
   "outputs": [
    {
     "name": "stdout",
     "output_type": "stream",
     "text": [
      "Part 1 Result: 2644\n"
     ]
    }
   ],
   "source": [
    "with open('day_4_input.txt') as input:\n",
    "    lines = [line.rstrip() for line in input.readlines()]\n",
    "\n",
    "word = 'XMAS'\n",
    "\n",
    "def print_grid(some_grid):\n",
    "    for row in some_grid:\n",
    "        print(''.join(row))\n",
    "\n",
    "grid = [[c for c in line] for line in lines]\n",
    "# print_grid(grid)\n",
    "\n",
    "start_pos = []\n",
    "for row_num, row in enumerate(grid):\n",
    "    for col_num, c in enumerate(row):\n",
    "        if c == word[0]:\n",
    "            start_pos.append((row_num, col_num))\n",
    "\n",
    "dir_list = [(-1, -1), (0, -1), (1, -1), (-1, 0), (1, 0), (-1, 1), (0, 1), (1, 1)]\n",
    "\n",
    "def sum_pos(a, b):\n",
    "    return (a[0] + b[0], a[1] + b[1])\n",
    "def valid_pos(some_grid, p):\n",
    "    return p[0] >= 0 and p[0] < len(some_grid) and p[1] >= 0 and p[1] < len(some_grid[0])\n",
    "def grid_get(some_grid, p):\n",
    "    return some_grid[p[0]][p[1]]\n",
    "\n",
    "current_pos = []\n",
    "for pos in start_pos:\n",
    "    for dir in dir_list:\n",
    "        check_pos = sum_pos(pos, dir)\n",
    "        if valid_pos(grid, check_pos) and grid_get(grid, check_pos) == word[1]:\n",
    "            current_pos.append((check_pos, dir))\n",
    "\n",
    "next_pos = []\n",
    "for pos, dir in current_pos:\n",
    "    check_pos = sum_pos(pos, dir)\n",
    "    if valid_pos(grid, check_pos) and grid_get(grid, check_pos) == word[2]:\n",
    "        next_pos.append((check_pos, dir))\n",
    "\n",
    "current_pos = next_pos\n",
    "next_pos = []\n",
    "for pos, dir in current_pos:\n",
    "    check_pos = sum_pos(pos, dir)\n",
    "    if valid_pos(grid, check_pos) and grid_get(grid, check_pos) == word[3]:\n",
    "        next_pos.append((check_pos, dir))\n",
    "\n",
    "print(\"Part 1 Result:\", len(next_pos))"
   ]
  },
  {
   "cell_type": "code",
   "execution_count": 8,
   "metadata": {},
   "outputs": [
    {
     "name": "stdout",
     "output_type": "stream",
     "text": [
      "Part 2 Result: 1952\n"
     ]
    }
   ],
   "source": [
    "# print_grid(grid)\n",
    "\n",
    "word = 'MAS'\n",
    "\n",
    "start_pos = []\n",
    "for row_num in range(1, len(grid) - 1):\n",
    "    row = grid[row_num]\n",
    "    for col_num in range(1, len(row) - 1):\n",
    "        if row[col_num] == word[1]:\n",
    "            start_pos.append((row_num, col_num))\n",
    "\n",
    "dir_list = [(-1, -1), (1, -1), (-1, 1), (1, 1)]\n",
    "\n",
    "def negate_pos(p):\n",
    "    return (-p[0], -p[1])\n",
    "\n",
    "tally = 0\n",
    "for pos in start_pos:\n",
    "    matches = []\n",
    "    for dir in dir_list:\n",
    "        check_pos = sum_pos(pos, dir)\n",
    "        if valid_pos(grid, check_pos) and grid_get(grid, check_pos) == word[0]:\n",
    "            matches.append(dir)\n",
    "    if len(matches) != 2 or matches[0] == negate_pos(matches[1]):\n",
    "        continue\n",
    "    num_matched = 0\n",
    "    for dir in matches:\n",
    "        check_pos = sum_pos(pos, negate_pos(dir))\n",
    "        if valid_pos(grid, check_pos) and grid_get(grid, check_pos) == word[2]:\n",
    "            num_matched += 1\n",
    "    if num_matched == 2:\n",
    "        # print(pos)\n",
    "        tally += 1\n",
    " \n",
    "print(\"Part 2 Result:\", tally)"
   ]
  },
  {
   "cell_type": "markdown",
   "metadata": {},
   "source": [
    "## --- Day 5: Print Queue ---"
   ]
  },
  {
   "cell_type": "code",
   "execution_count": 9,
   "metadata": {},
   "outputs": [
    {
     "name": "stdout",
     "output_type": "stream",
     "text": [
      "Part 1 Result: 4905\n"
     ]
    }
   ],
   "source": [
    "with open('day_5_input.txt') as input:\n",
    "    lines = [line.rstrip() for line in input.readlines()]\n",
    "\n",
    "rules = []\n",
    "updates = []\n",
    "\n",
    "for line in lines:\n",
    "    if '|' in line:\n",
    "        a, b = line.split('|')\n",
    "        rules.append((int(a), int(b)))\n",
    "    elif ',' in line:\n",
    "        updates.append(tuple(int(val) for val in line.split(',')))\n",
    "\n",
    "tally = 0\n",
    "wrong_updates = []\n",
    "for update in updates:\n",
    "    page_pos = {page:pos for pos, page in enumerate(update)}\n",
    "    incorrect = any(earlier in page_pos and later in page_pos and page_pos[earlier] > page_pos[later] for earlier, later in rules)\n",
    "    if not incorrect:\n",
    "        tally += update[len(update) // 2]\n",
    "    else:\n",
    "        wrong_updates.append(update)\n",
    "\n",
    "print(\"Part 1 Result:\", tally)"
   ]
  },
  {
   "cell_type": "code",
   "execution_count": 10,
   "metadata": {},
   "outputs": [
    {
     "name": "stdout",
     "output_type": "stream",
     "text": [
      "Part 2 Result: 6204\n"
     ]
    }
   ],
   "source": [
    "class Page:\n",
    "    def __init__(self, val):\n",
    "        self.val = val\n",
    "    def __lt__(self, other):\n",
    "        return (self.val, other.val) in rules\n",
    "    def __repr__(self):\n",
    "        return f\"{self.val}\"\n",
    "        \n",
    "tally = 0\n",
    "for update in wrong_updates:\n",
    "    page_update = sorted(Page(val) for val in update)\n",
    "    tally += page_update[len(page_update) // 2].val\n",
    "\n",
    "print(\"Part 2 Result:\", tally)"
   ]
  },
  {
   "cell_type": "markdown",
   "metadata": {},
   "source": [
    "## --- Day 6: Guard Gallivant ---"
   ]
  },
  {
   "cell_type": "code",
   "execution_count": 11,
   "metadata": {},
   "outputs": [
    {
     "name": "stdout",
     "output_type": "stream",
     "text": [
      "Part 1 Result: 4647\n"
     ]
    }
   ],
   "source": [
    "with open('day_6_input.txt') as input:\n",
    "    lines = [line.rstrip() for line in input.readlines()]\n",
    "\n",
    "def print_grid(some_grid):\n",
    "    for row in some_grid:\n",
    "        print(''.join(row))\n",
    "\n",
    "def add_pos(a, b):\n",
    "    return (a[0] + b[0], a[1] + b[1])\n",
    "def sub_pos(a, b):\n",
    "    return (a[0] - b[0], a[1] - b[1])\n",
    "def valid_pos(some_grid, p):\n",
    "    return p[1] >= 0 and p[1] < len(some_grid) and p[0] >= 0 and p[0] < len(some_grid[p[1]])\n",
    "def grid_get(some_grid, p):\n",
    "    return some_grid[p[1]][p[0]]\n",
    "def grid_set(some_grid, p, c):\n",
    "    some_grid[p[1]][p[0]] = c\n",
    "\n",
    "grid = [[c for c in line] for line in lines]\n",
    "# print_grid(grid)\n",
    "\n",
    "dir_sequence = {(0, -1): 0, (1, 0): 1, (0, 1): 2, (-1, 0): 3}\n",
    "dir_lookup = {val: key for key, val in dir_sequence.items()}\n",
    "\n",
    "def next_dir(dir):\n",
    "    return dir_lookup[(dir_sequence[dir] + 1) % 4]\n",
    "\n",
    "dir = dir_lookup[0]\n",
    "start_pos = None\n",
    "for y in range(len(grid)):\n",
    "    for x in range(len(grid[0])):\n",
    "        if grid_get(grid, (x, y)) == '^':\n",
    "            start_pos = (x, y)\n",
    "            break\n",
    "    if not start_pos is None:\n",
    "        break\n",
    "\n",
    "progress_grid = [row.copy() for row in grid]\n",
    "grid_set(progress_grid, start_pos, 'X')\n",
    "\n",
    "pos = add_pos(start_pos, dir)\n",
    "while valid_pos(grid, pos):\n",
    "    if grid_get(grid, pos) == '#':\n",
    "        pos = sub_pos(pos, dir)\n",
    "        dir = next_dir(dir)\n",
    "    else:\n",
    "        grid_set(progress_grid, pos, 'X')\n",
    "    pos = add_pos(pos, dir)\n",
    "\n",
    "# print()\n",
    "# print_grid(progress_grid)\n",
    "\n",
    "tally = sum(sum(c == 'X' for c in row) for row in progress_grid)\n",
    "\n",
    "print(\"Part 1 Result:\", tally)"
   ]
  },
  {
   "cell_type": "code",
   "execution_count": 12,
   "metadata": {},
   "outputs": [
    {
     "name": "stdout",
     "output_type": "stream",
     "text": [
      "tally = 4647\n",
      "Part 2 Result: 1723\n"
     ]
    }
   ],
   "source": [
    "def check_loop(some_grid, pos, dir):\n",
    "    history = {(pos, dir)}\n",
    "    obstruction = add_pos(pos, dir)\n",
    "    next_pos = obstruction\n",
    "    while valid_pos(some_grid, next_pos):\n",
    "        if (next_pos, dir) in history:\n",
    "            return True\n",
    "        if next_pos == obstruction or grid_get(some_grid, next_pos) == '#':\n",
    "            dir = next_dir(dir)\n",
    "        else:\n",
    "            pos = next_pos\n",
    "        history.add((pos, dir))\n",
    "        next_pos = add_pos(pos, dir)\n",
    "    return False\n",
    "\n",
    "progress_grid = [row.copy() for row in grid]\n",
    "grid_set(progress_grid, start_pos, 'X')\n",
    "\n",
    "options = set()\n",
    "dir = dir_lookup[0]\n",
    "pos = start_pos\n",
    "next_pos = add_pos(pos, dir)\n",
    "while valid_pos(grid, next_pos):\n",
    "    if grid_get(grid, next_pos) == '#':\n",
    "        dir = next_dir(dir)\n",
    "    else:\n",
    "        if next_pos != start_pos and grid_get(progress_grid, next_pos) != 'X' and check_loop(grid, pos, dir):\n",
    "            options.add(next_pos)\n",
    "        pos = next_pos\n",
    "        grid_set(progress_grid, pos, 'X')\n",
    "    next_pos = add_pos(pos, dir)\n",
    "\n",
    "# print_grid(progress_grid)\n",
    "# print(options)\n",
    "\n",
    "print(\"tally =\", sum(sum(c == 'X' for c in row) for row in progress_grid))\n",
    "print(\"Part 2 Result:\", len(options))"
   ]
  },
  {
   "cell_type": "markdown",
   "metadata": {},
   "source": [
    "## --- Day 7: Bridge Repair ---"
   ]
  },
  {
   "cell_type": "code",
   "execution_count": 13,
   "metadata": {},
   "outputs": [
    {
     "name": "stdout",
     "output_type": "stream",
     "text": [
      "Part 1 Result: 7885693428401\n"
     ]
    }
   ],
   "source": [
    "with open('day_7_input.txt') as input:\n",
    "    lines = [line.rstrip() for line in input.readlines()]\n",
    "\n",
    "lines = [(int(line.split(':')[0]), line.split(': ')[1]) for line in lines]\n",
    "lines = [(val, [int(arg) for arg in args.split(' ')]) for val, args in lines]\n",
    "\n",
    "tally = 0\n",
    "for val, args in lines:\n",
    "    results = {args[0]}\n",
    "    for arg in args[1:]:\n",
    "        new_results = set()\n",
    "        for result in results:\n",
    "            new_results.add(result + arg)\n",
    "            new_results.add(result * arg)\n",
    "        results = new_results\n",
    "    if val in results:\n",
    "        tally += val\n",
    "\n",
    "print(\"Part 1 Result:\", tally)"
   ]
  },
  {
   "cell_type": "code",
   "execution_count": 14,
   "metadata": {},
   "outputs": [
    {
     "name": "stdout",
     "output_type": "stream",
     "text": [
      "Part 2 Result: 348360680516005\n"
     ]
    }
   ],
   "source": [
    "tally = 0\n",
    "for val, args in lines:\n",
    "    results = {args[0]}\n",
    "    for arg in args[1:]:\n",
    "        new_results = set()\n",
    "        for result in results:\n",
    "            new_results.add(result + arg)\n",
    "            new_results.add(result * arg)\n",
    "            new_results.add(int(str(result) + str(arg)))\n",
    "        results = new_results\n",
    "    if val in results:\n",
    "        tally += val\n",
    "\n",
    "print(\"Part 2 Result:\", tally)"
   ]
  }
 ],
 "metadata": {
  "kernelspec": {
   "display_name": "Python 3",
   "language": "python",
   "name": "python3"
  },
  "language_info": {
   "codemirror_mode": {
    "name": "ipython",
    "version": 3
   },
   "file_extension": ".py",
   "mimetype": "text/x-python",
   "name": "python",
   "nbconvert_exporter": "python",
   "pygments_lexer": "ipython3",
   "version": "3.9.6"
  }
 },
 "nbformat": 4,
 "nbformat_minor": 2
}
