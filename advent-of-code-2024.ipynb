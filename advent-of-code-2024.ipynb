{
 "cells": [
  {
   "cell_type": "markdown",
   "metadata": {},
   "source": [
    "# Advent of Code 2024"
   ]
  },
  {
   "cell_type": "markdown",
   "metadata": {},
   "source": [
    "## --- Day 1: Historian Hysteria ---"
   ]
  },
  {
   "cell_type": "code",
   "execution_count": 1,
   "metadata": {},
   "outputs": [
    {
     "name": "stdout",
     "output_type": "stream",
     "text": [
      "Part 1 Result: 2904518\n"
     ]
    }
   ],
   "source": [
    "with open('day_1_input.txt') as input:\n",
    "    lines = [line.rstrip() for line in input.readlines()]\n",
    "\n",
    "line_pairs = [tuple(int(num) for num in line.split()) for line in lines]\n",
    "list1, list2 = [sorted(list(x)) for x in zip(*line_pairs)]\n",
    "# print(list1, list2)\n",
    "\n",
    "diffs = [abs(val1 - val2) for val1, val2 in zip(list1, list2)]\n",
    "# print(diffs)\n",
    "\n",
    "print(\"Part 1 Result:\", sum(diffs))"
   ]
  },
  {
   "cell_type": "code",
   "execution_count": 2,
   "metadata": {},
   "outputs": [
    {
     "name": "stdout",
     "output_type": "stream",
     "text": [
      "Part 2 Result: 18650129\n"
     ]
    }
   ],
   "source": [
    "scores = [(val1 * sum([val2 == val1 for val2 in list2])) for val1 in list1]\n",
    "# print(scores)\n",
    "\n",
    "print(\"Part 2 Result:\", sum(scores))"
   ]
  },
  {
   "cell_type": "markdown",
   "metadata": {},
   "source": [
    "## --- Day 2: Red-Nosed Reports ---"
   ]
  },
  {
   "cell_type": "code",
   "execution_count": 3,
   "metadata": {},
   "outputs": [
    {
     "name": "stdout",
     "output_type": "stream",
     "text": [
      "Part 1 Result: 334\n"
     ]
    }
   ],
   "source": [
    "with open('day_2_input.txt') as input:\n",
    "    lines = [line.rstrip() for line in input.readlines()]\n",
    "\n",
    "reports = [[int(num) for num in line.split()] for line in lines]\n",
    "# print(reports)\n",
    "\n",
    "diffs = [[y - x for x, y in zip(report[:-1], report[1:])] for report in reports]\n",
    "# print(diffs)\n",
    "\n",
    "steps = [[min(abs(val), 4) for val in diff] for diff in diffs]\n",
    "# print(steps)\n",
    "\n",
    "unsafe_steps = [4 in step or 0 in step for step in steps]\n",
    "# print(unsafe_steps)\n",
    "\n",
    "unsafe_changes = [abs(sum([int(val > 0) - int(val < 0) for val in diff])) != len(diff) for diff in diffs]\n",
    "# print(unsafe_changes)\n",
    "\n",
    "safe = [not unsafe_step and not unsafe_change for unsafe_step, unsafe_change in zip(unsafe_steps, unsafe_changes)]\n",
    "# print(safe)\n",
    "\n",
    "print(\"Part 1 Result:\", sum(safe))"
   ]
  },
  {
   "cell_type": "code",
   "execution_count": 4,
   "metadata": {},
   "outputs": [
    {
     "name": "stdout",
     "output_type": "stream",
     "text": [
      "Part 2 Result: 400\n"
     ]
    }
   ],
   "source": [
    "def check_for_bad_report(report):\n",
    "    diff = [y - x for x, y in zip(report[:-1], report[1:])]\n",
    "    return any(abs(val) > 3 or val == 0 or val * diff[0] < 0 for val in diff)\n",
    "\n",
    "tally = 0\n",
    "for report in reports:\n",
    "    if not check_for_bad_report(report):\n",
    "        tally += 1\n",
    "        continue\n",
    "\n",
    "    for n in range(len(report)):\n",
    "        new_report = [val for pos, val in enumerate(report) if pos != n]\n",
    "        if not check_for_bad_report(new_report):\n",
    "            tally += 1\n",
    "            break\n",
    "    \n",
    "print(\"Part 2 Result:\", tally)"
   ]
  },
  {
   "cell_type": "markdown",
   "metadata": {},
   "source": [
    "## --- Day 3: Mull It Over ---"
   ]
  },
  {
   "cell_type": "code",
   "execution_count": 5,
   "metadata": {},
   "outputs": [
    {
     "name": "stdout",
     "output_type": "stream",
     "text": [
      "Part 1 Result: 167650499\n"
     ]
    }
   ],
   "source": [
    "with open('day_3_input.txt') as input:\n",
    "    data = input.read()\n",
    "\n",
    "def mul_and_sum(text):\n",
    "    candidates = [segment.split(')')[0].split(',') for segment in text.split('mul(')]\n",
    "    candidates = [candidate for candidate in candidates if len(candidate) == 2]\n",
    "    products = [int(candidate[0]) * int(candidate[1]) for candidate in candidates if candidate[0].isdigit() and candidate[1].isdigit()]\n",
    "    return sum(products)\n",
    "\n",
    "print(\"Part 1 Result:\", mul_and_sum(data))"
   ]
  },
  {
   "cell_type": "code",
   "execution_count": 6,
   "metadata": {},
   "outputs": [
    {
     "name": "stdout",
     "output_type": "stream",
     "text": [
      "Part 2 Result: 95846796\n"
     ]
    }
   ],
   "source": [
    "segments = data.split(\"don't()\")\n",
    "result = mul_and_sum(segments[0])\n",
    "for segment in segments[1:]:\n",
    "    for subsegment in segment.split('do()')[1:]:\n",
    "        result += mul_and_sum(subsegment)\n",
    "\n",
    "print(\"Part 2 Result:\", result)"
   ]
  },
  {
   "cell_type": "markdown",
   "metadata": {},
   "source": [
    "## --- Day 4: Ceres Search ---"
   ]
  },
  {
   "cell_type": "code",
   "execution_count": 7,
   "metadata": {},
   "outputs": [
    {
     "name": "stdout",
     "output_type": "stream",
     "text": [
      "Part 1 Result: 2644\n"
     ]
    }
   ],
   "source": [
    "with open('day_4_input.txt') as input:\n",
    "    lines = [line.rstrip() for line in input.readlines()]\n",
    "\n",
    "word = 'XMAS'\n",
    "\n",
    "def print_grid(some_grid):\n",
    "    for row in some_grid:\n",
    "        print(''.join(row))\n",
    "\n",
    "grid = [[c for c in line] for line in lines]\n",
    "# print_grid(grid)\n",
    "\n",
    "start_pos = []\n",
    "for row_num, row in enumerate(grid):\n",
    "    for col_num, c in enumerate(row):\n",
    "        if c == word[0]:\n",
    "            start_pos.append((row_num, col_num))\n",
    "\n",
    "dir_list = [(-1, -1), (0, -1), (1, -1), (-1, 0), (1, 0), (-1, 1), (0, 1), (1, 1)]\n",
    "\n",
    "def sum_pos(a, b):\n",
    "    return (a[0] + b[0], a[1] + b[1])\n",
    "def valid_pos(some_grid, p):\n",
    "    return p[0] >= 0 and p[0] < len(some_grid) and p[1] >= 0 and p[1] < len(some_grid[0])\n",
    "def grid_get(some_grid, p):\n",
    "    return some_grid[p[0]][p[1]]\n",
    "\n",
    "current_pos = []\n",
    "for pos in start_pos:\n",
    "    for dir in dir_list:\n",
    "        check_pos = sum_pos(pos, dir)\n",
    "        if valid_pos(grid, check_pos) and grid_get(grid, check_pos) == word[1]:\n",
    "            current_pos.append((check_pos, dir))\n",
    "\n",
    "next_pos = []\n",
    "for pos, dir in current_pos:\n",
    "    check_pos = sum_pos(pos, dir)\n",
    "    if valid_pos(grid, check_pos) and grid_get(grid, check_pos) == word[2]:\n",
    "        next_pos.append((check_pos, dir))\n",
    "\n",
    "current_pos = next_pos\n",
    "next_pos = []\n",
    "for pos, dir in current_pos:\n",
    "    check_pos = sum_pos(pos, dir)\n",
    "    if valid_pos(grid, check_pos) and grid_get(grid, check_pos) == word[3]:\n",
    "        next_pos.append((check_pos, dir))\n",
    "\n",
    "print(\"Part 1 Result:\", len(next_pos))"
   ]
  },
  {
   "cell_type": "code",
   "execution_count": 8,
   "metadata": {},
   "outputs": [
    {
     "name": "stdout",
     "output_type": "stream",
     "text": [
      "Part 2 Result: 1952\n"
     ]
    }
   ],
   "source": [
    "# print_grid(grid)\n",
    "\n",
    "word = 'MAS'\n",
    "\n",
    "start_pos = []\n",
    "for row_num in range(1, len(grid) - 1):\n",
    "    row = grid[row_num]\n",
    "    for col_num in range(1, len(row) - 1):\n",
    "        if row[col_num] == word[1]:\n",
    "            start_pos.append((row_num, col_num))\n",
    "\n",
    "dir_list = [(-1, -1), (1, -1), (-1, 1), (1, 1)]\n",
    "\n",
    "def negate_pos(p):\n",
    "    return (-p[0], -p[1])\n",
    "\n",
    "tally = 0\n",
    "for pos in start_pos:\n",
    "    matches = []\n",
    "    for dir in dir_list:\n",
    "        check_pos = sum_pos(pos, dir)\n",
    "        if valid_pos(grid, check_pos) and grid_get(grid, check_pos) == word[0]:\n",
    "            matches.append(dir)\n",
    "    if len(matches) != 2 or matches[0] == negate_pos(matches[1]):\n",
    "        continue\n",
    "    num_matched = 0\n",
    "    for dir in matches:\n",
    "        check_pos = sum_pos(pos, negate_pos(dir))\n",
    "        if valid_pos(grid, check_pos) and grid_get(grid, check_pos) == word[2]:\n",
    "            num_matched += 1\n",
    "    if num_matched == 2:\n",
    "        # print(pos)\n",
    "        tally += 1\n",
    " \n",
    "print(\"Part 2 Result:\", tally)"
   ]
  },
  {
   "cell_type": "markdown",
   "metadata": {},
   "source": [
    "## --- Day 5: Print Queue ---"
   ]
  },
  {
   "cell_type": "code",
   "execution_count": 9,
   "metadata": {},
   "outputs": [
    {
     "name": "stdout",
     "output_type": "stream",
     "text": [
      "Part 1 Result: 4905\n"
     ]
    }
   ],
   "source": [
    "with open('day_5_input.txt') as input:\n",
    "    lines = [line.rstrip() for line in input.readlines()]\n",
    "\n",
    "rules = []\n",
    "updates = []\n",
    "\n",
    "for line in lines:\n",
    "    if '|' in line:\n",
    "        a, b = line.split('|')\n",
    "        rules.append((int(a), int(b)))\n",
    "    elif ',' in line:\n",
    "        updates.append(tuple(int(val) for val in line.split(',')))\n",
    "\n",
    "tally = 0\n",
    "wrong_updates = []\n",
    "for update in updates:\n",
    "    page_pos = {page:pos for pos, page in enumerate(update)}\n",
    "    incorrect = any(earlier in page_pos and later in page_pos and page_pos[earlier] > page_pos[later] for earlier, later in rules)\n",
    "    if not incorrect:\n",
    "        tally += update[len(update) // 2]\n",
    "    else:\n",
    "        wrong_updates.append(update)\n",
    "\n",
    "print(\"Part 1 Result:\", tally)"
   ]
  },
  {
   "cell_type": "code",
   "execution_count": 10,
   "metadata": {},
   "outputs": [
    {
     "name": "stdout",
     "output_type": "stream",
     "text": [
      "Part 2 Result: 6204\n"
     ]
    }
   ],
   "source": [
    "class Page:\n",
    "    def __init__(self, val):\n",
    "        self.val = val\n",
    "    def __lt__(self, other):\n",
    "        return (self.val, other.val) in rules\n",
    "    def __repr__(self):\n",
    "        return f\"{self.val}\"\n",
    "        \n",
    "tally = 0\n",
    "for update in wrong_updates:\n",
    "    page_update = sorted(Page(val) for val in update)\n",
    "    tally += page_update[len(page_update) // 2].val\n",
    "\n",
    "print(\"Part 2 Result:\", tally)"
   ]
  },
  {
   "cell_type": "markdown",
   "metadata": {},
   "source": [
    "## --- Day 6: Guard Gallivant ---"
   ]
  },
  {
   "cell_type": "code",
   "execution_count": 11,
   "metadata": {},
   "outputs": [
    {
     "name": "stdout",
     "output_type": "stream",
     "text": [
      "Part 1 Result: 4647\n"
     ]
    }
   ],
   "source": [
    "with open('day_6_input.txt') as input:\n",
    "    lines = [line.rstrip() for line in input.readlines()]\n",
    "\n",
    "def print_grid(some_grid):\n",
    "    for row in some_grid:\n",
    "        print(''.join(row))\n",
    "\n",
    "def add_pos(a, b):\n",
    "    return (a[0] + b[0], a[1] + b[1])\n",
    "def sub_pos(a, b):\n",
    "    return (a[0] - b[0], a[1] - b[1])\n",
    "def valid_pos(some_grid, p):\n",
    "    return p[1] >= 0 and p[1] < len(some_grid) and p[0] >= 0 and p[0] < len(some_grid[p[1]])\n",
    "def grid_get(some_grid, p):\n",
    "    return some_grid[p[1]][p[0]]\n",
    "def grid_set(some_grid, p, c):\n",
    "    some_grid[p[1]][p[0]] = c\n",
    "\n",
    "grid = [[c for c in line] for line in lines]\n",
    "# print_grid(grid)\n",
    "\n",
    "dir_sequence = {(0, -1): 0, (1, 0): 1, (0, 1): 2, (-1, 0): 3}\n",
    "dir_lookup = {val: key for key, val in dir_sequence.items()}\n",
    "\n",
    "def next_dir(dir):\n",
    "    return dir_lookup[(dir_sequence[dir] + 1) % 4]\n",
    "\n",
    "dir = dir_lookup[0]\n",
    "start_pos = None\n",
    "for y in range(len(grid)):\n",
    "    for x in range(len(grid[0])):\n",
    "        if grid_get(grid, (x, y)) == '^':\n",
    "            start_pos = (x, y)\n",
    "            break\n",
    "    if not start_pos is None:\n",
    "        break\n",
    "\n",
    "progress_grid = [row.copy() for row in grid]\n",
    "grid_set(progress_grid, start_pos, 'X')\n",
    "\n",
    "pos = add_pos(start_pos, dir)\n",
    "while valid_pos(grid, pos):\n",
    "    if grid_get(grid, pos) == '#':\n",
    "        pos = sub_pos(pos, dir)\n",
    "        dir = next_dir(dir)\n",
    "    else:\n",
    "        grid_set(progress_grid, pos, 'X')\n",
    "    pos = add_pos(pos, dir)\n",
    "\n",
    "# print()\n",
    "# print_grid(progress_grid)\n",
    "\n",
    "tally = sum(sum(c == 'X' for c in row) for row in progress_grid)\n",
    "\n",
    "print(\"Part 1 Result:\", tally)"
   ]
  },
  {
   "cell_type": "code",
   "execution_count": 12,
   "metadata": {},
   "outputs": [
    {
     "name": "stdout",
     "output_type": "stream",
     "text": [
      "tally = 4647\n",
      "Part 2 Result: 1723\n"
     ]
    }
   ],
   "source": [
    "def check_loop(some_grid, pos, dir):\n",
    "    history = {(pos, dir)}\n",
    "    obstruction = add_pos(pos, dir)\n",
    "    next_pos = obstruction\n",
    "    while valid_pos(some_grid, next_pos):\n",
    "        if (next_pos, dir) in history:\n",
    "            return True\n",
    "        if next_pos == obstruction or grid_get(some_grid, next_pos) == '#':\n",
    "            dir = next_dir(dir)\n",
    "        else:\n",
    "            pos = next_pos\n",
    "        history.add((pos, dir))\n",
    "        next_pos = add_pos(pos, dir)\n",
    "    return False\n",
    "\n",
    "progress_grid = [row.copy() for row in grid]\n",
    "grid_set(progress_grid, start_pos, 'X')\n",
    "\n",
    "options = set()\n",
    "dir = dir_lookup[0]\n",
    "pos = start_pos\n",
    "next_pos = add_pos(pos, dir)\n",
    "while valid_pos(grid, next_pos):\n",
    "    if grid_get(grid, next_pos) == '#':\n",
    "        dir = next_dir(dir)\n",
    "    else:\n",
    "        if next_pos != start_pos and grid_get(progress_grid, next_pos) != 'X' and check_loop(grid, pos, dir):\n",
    "            options.add(next_pos)\n",
    "        pos = next_pos\n",
    "        grid_set(progress_grid, pos, 'X')\n",
    "    next_pos = add_pos(pos, dir)\n",
    "\n",
    "# print_grid(progress_grid)\n",
    "# print(options)\n",
    "\n",
    "print(\"tally =\", sum(sum(c == 'X' for c in row) for row in progress_grid))\n",
    "print(\"Part 2 Result:\", len(options))"
   ]
  },
  {
   "cell_type": "markdown",
   "metadata": {},
   "source": [
    "## --- Day 7: Bridge Repair ---"
   ]
  },
  {
   "cell_type": "code",
   "execution_count": 13,
   "metadata": {},
   "outputs": [
    {
     "name": "stdout",
     "output_type": "stream",
     "text": [
      "Part 1 Result: 7885693428401\n"
     ]
    }
   ],
   "source": [
    "with open('day_7_input.txt') as input:\n",
    "    lines = [line.rstrip() for line in input.readlines()]\n",
    "\n",
    "lines = [(int(line.split(':')[0]), line.split(': ')[1]) for line in lines]\n",
    "lines = [(val, [int(arg) for arg in args.split(' ')]) for val, args in lines]\n",
    "\n",
    "tally = 0\n",
    "for val, args in lines:\n",
    "    results = {args[0]}\n",
    "    for arg in args[1:]:\n",
    "        new_results = set()\n",
    "        for result in results:\n",
    "            new_results.add(result + arg)\n",
    "            new_results.add(result * arg)\n",
    "        results = new_results\n",
    "    if val in results:\n",
    "        tally += val\n",
    "\n",
    "print(\"Part 1 Result:\", tally)"
   ]
  },
  {
   "cell_type": "code",
   "execution_count": 14,
   "metadata": {},
   "outputs": [
    {
     "name": "stdout",
     "output_type": "stream",
     "text": [
      "Part 2 Result: 348360680516005\n"
     ]
    }
   ],
   "source": [
    "tally = 0\n",
    "for val, args in lines:\n",
    "    results = {args[0]}\n",
    "    for arg in args[1:]:\n",
    "        new_results = set()\n",
    "        for result in results:\n",
    "            new_results.add(result + arg)\n",
    "            new_results.add(result * arg)\n",
    "            new_results.add(int(str(result) + str(arg)))\n",
    "        results = new_results\n",
    "    if val in results:\n",
    "        tally += val\n",
    "\n",
    "print(\"Part 2 Result:\", tally)"
   ]
  },
  {
   "cell_type": "markdown",
   "metadata": {},
   "source": [
    "## --- Day 8: Resonant Collinearity ---"
   ]
  },
  {
   "cell_type": "code",
   "execution_count": 15,
   "metadata": {},
   "outputs": [
    {
     "name": "stdout",
     "output_type": "stream",
     "text": [
      "Part 1 Result: 265\n"
     ]
    }
   ],
   "source": [
    "with open('day_8_input.txt') as input:\n",
    "    grid = [[c for c in line.rstrip()] for line in input.readlines()]\n",
    "\n",
    "def print_grid(some_grid):\n",
    "    for row in some_grid:\n",
    "        print(''.join(row))\n",
    "# print_grid(grid)\n",
    "\n",
    "antennas = {}\n",
    "for y, row in enumerate(grid):\n",
    "    for x, c in enumerate(row):\n",
    "        pos = x, y\n",
    "        if c != '.':\n",
    "            if c in antennas:\n",
    "                antennas[c].append(pos)\n",
    "            else:\n",
    "                antennas[c] = [pos]\n",
    "\n",
    "def add_pos(a, b):\n",
    "    return a[0] + b[0], a[1] + b[1]\n",
    "def sub_pos(a, b):\n",
    "    return a[0] - b[0], a[1] - b[1]\n",
    "def valid_pos(some_grid, pos):\n",
    "    return pos[0] >= 0 and pos[1] >= 0 and pos[1] < len(some_grid) and pos[0] < len(some_grid[pos[1]])    \n",
    "def grid_set(some_grid, pos, c):\n",
    "    some_grid[pos[1]][pos[0]] = c\n",
    "\n",
    "nodes = set()\n",
    "for _, antenna_pos in antennas.items():\n",
    "    for m, m_pos in enumerate(antenna_pos):\n",
    "        for n in range(m):\n",
    "            n_pos = antenna_pos[n]\n",
    "            delta = sub_pos(m_pos, n_pos)\n",
    "            node1 = add_pos(m_pos, delta)\n",
    "            node2 = sub_pos(n_pos, delta)\n",
    "            if valid_pos(grid, node1):\n",
    "                # grid_set(grid, node1, '#')\n",
    "                nodes.add(node1)\n",
    "            if valid_pos(grid, node2):\n",
    "                # grid_set(grid, node2, '#')\n",
    "                nodes.add(node2)\n",
    "\n",
    "# print_grid(grid)\n",
    "print(\"Part 1 Result:\", len(nodes))"
   ]
  },
  {
   "cell_type": "code",
   "execution_count": 16,
   "metadata": {},
   "outputs": [
    {
     "name": "stdout",
     "output_type": "stream",
     "text": [
      "Part 2 Result: 962\n"
     ]
    }
   ],
   "source": [
    "nodes = set()\n",
    "for _, antenna_pos in antennas.items():\n",
    "    for m, m_pos in enumerate(antenna_pos):\n",
    "        for n in range(m):\n",
    "            n_pos = antenna_pos[n]\n",
    "            delta = sub_pos(m_pos, n_pos)\n",
    "            node = sub_pos(m_pos, delta)\n",
    "            while valid_pos(grid, node):\n",
    "                # grid_set(grid, node, '#')\n",
    "                nodes.add(node)\n",
    "                node = sub_pos(node, delta)\n",
    "            node = add_pos(n_pos, delta)\n",
    "            while valid_pos(grid, node):\n",
    "                # grid_set(grid, node, '#')\n",
    "                nodes.add(node)\n",
    "                node = add_pos(node, delta)\n",
    "\n",
    "# print_grid(grid)\n",
    "print(\"Part 2 Result:\", len(nodes))"
   ]
  },
  {
   "cell_type": "markdown",
   "metadata": {},
   "source": [
    "## --- Day 9: Disk Fragmenter ---"
   ]
  },
  {
   "cell_type": "code",
   "execution_count": 17,
   "metadata": {},
   "outputs": [
    {
     "name": "stdout",
     "output_type": "stream",
     "text": [
      "Part 1 Result: 6225730762521\n"
     ]
    }
   ],
   "source": [
    "with open('day_9_input.txt') as input:\n",
    "    line = input.read().rstrip()\n",
    "\n",
    "disk_map = [int(c) for c in line]\n",
    "# print(disk_map)\n",
    "\n",
    "def print_disk(some_disk):\n",
    "    print(''.join(some_disk))\n",
    "\n",
    "def build_disk(some_disk_map):\n",
    "    new_disk = ['.' for _ in range(sum(some_disk_map))]\n",
    "    id = 0\n",
    "    head = 0\n",
    "    free_space = False\n",
    "    for val in disk_map:\n",
    "        if not free_space:\n",
    "            block = str(id)\n",
    "            for n in range(val):\n",
    "                new_disk[head + n] = block\n",
    "            id += 1\n",
    "        head += val\n",
    "        free_space = not free_space\n",
    "\n",
    "    return new_disk\n",
    "\n",
    "disk = build_disk(disk_map)\n",
    "# print_disk(disk)\n",
    "\n",
    "def next_space(some_disk, pos):\n",
    "    while pos < len(some_disk) and some_disk[pos] != '.':\n",
    "        pos += 1\n",
    "    return pos if pos < len(some_disk) else None\n",
    "\n",
    "def prev_occupied(some_disk, pos):\n",
    "    while pos >= 0 and some_disk[pos] == '.':\n",
    "        pos -= 1\n",
    "    return pos if pos >= 0 else None\n",
    "\n",
    "head = next_space(disk, 0)\n",
    "back = prev_occupied(disk, len(disk) - 1)\n",
    "\n",
    "while head and back and head < back:\n",
    "    disk[head] = disk[back]\n",
    "    disk[back] = '.'\n",
    "    head = next_space(disk, head)\n",
    "    back = prev_occupied(disk, back)\n",
    "\n",
    "# print_disk(disk)\n",
    "\n",
    "checksum = sum(int(id) * pos for pos, id in enumerate(disk[:head]))\n",
    "print(\"Part 1 Result:\", checksum)"
   ]
  },
  {
   "cell_type": "code",
   "execution_count": 18,
   "metadata": {},
   "outputs": [
    {
     "name": "stdout",
     "output_type": "stream",
     "text": [
      "Part 2 Result: 6250605700557\n"
     ]
    }
   ],
   "source": [
    "disk = build_disk(disk_map)\n",
    "# print_disk(disk)\n",
    "\n",
    "file_sizes = disk_map[0::2]\n",
    "gap_sizes = disk_map[1::2]\n",
    "\n",
    "files = dict()\n",
    "gaps = dict()\n",
    "\n",
    "head = 0\n",
    "id = 0\n",
    "free_space = False\n",
    "for n in range(len(disk_map)):\n",
    "    val = disk_map[n]\n",
    "    if not free_space:\n",
    "        files[id] = head, val\n",
    "        id += 1\n",
    "    elif val != 0:\n",
    "        if not val in gaps:\n",
    "            gaps[val] = []\n",
    "        gaps[val].append(head)\n",
    "    head += val\n",
    "    free_space = not free_space\n",
    "\n",
    "# print(files)\n",
    "# print(gaps)\n",
    "\n",
    "for id in range(len(files) - 1, -1, -1):\n",
    "    pos, file_size = files[id]\n",
    "    candidate_gaps = [(min(gaps[gap]), gap) for gap in gaps if gap >= file_size]\n",
    "    if not candidate_gaps:\n",
    "        continue\n",
    "\n",
    "    gap_pos, gap_size = min(candidate_gaps)\n",
    "    if gap_pos >= pos:\n",
    "        continue\n",
    "\n",
    "    # remove gap that's been filled\n",
    "    gap_pos_list = gaps[gap_size]\n",
    "    gap_pos_list.remove(gap_pos)\n",
    "    if gap_pos_list:\n",
    "        gaps[gap_size] = gap_pos_list\n",
    "    else:\n",
    "        del gaps[gap_size]\n",
    "\n",
    "    # update gaps dictionary with any new residual gap\n",
    "    if file_size < gap_size:\n",
    "        new_gap_size = gap_size - file_size\n",
    "        new_gap_pos = gap_pos + file_size\n",
    "        if not new_gap_size in gaps:\n",
    "            gaps[new_gap_size] = []\n",
    "        gaps[new_gap_size].append(new_gap_pos)\n",
    "\n",
    "    # update files dictionary with the change; helps debugging although technically not necessary\n",
    "    files[id] = gap_pos, file_size\n",
    "    \n",
    "    # rewrite disk to reflect change\n",
    "    block = str(id)\n",
    "    for n in range(file_size):\n",
    "        disk[gap_pos + n] = block\n",
    "        disk[pos + n] = '.'\n",
    "    # print_disk(disk)\n",
    "\n",
    "# print(files)\n",
    "# print(gaps)\n",
    "# print_disk(disk)\n",
    "\n",
    "checksum = sum(int(id) * pos for pos, id in enumerate(disk) if id != '.')\n",
    "print(\"Part 2 Result:\", checksum)"
   ]
  },
  {
   "cell_type": "markdown",
   "metadata": {},
   "source": [
    "## --- Day 10: Hoof It ---"
   ]
  },
  {
   "cell_type": "code",
   "execution_count": 19,
   "metadata": {},
   "outputs": [
    {
     "name": "stdout",
     "output_type": "stream",
     "text": [
      "Part 1 Result: 822\n"
     ]
    }
   ],
   "source": [
    "with open('day_10_input.txt') as input:\n",
    "    grid = [[c for c in line.rstrip()] for line in input.readlines()]\n",
    "\n",
    "def print_grid(some_grid):\n",
    "    for row in some_grid:\n",
    "        print(''.join(row))\n",
    "\n",
    "def grid_get(some_grid, pos):\n",
    "    return some_grid[pos[1]][pos[0]]\n",
    "\n",
    "def valid_pos(some_grid, pos):\n",
    "    return pos[1] >= 0 and pos[1] < len(some_grid) and pos[0] >= 0 and pos[0] < len(some_grid[pos[1]])\n",
    "\n",
    "def add_pos(a, b):\n",
    "    return (a[0] + b[0], a[1] + b[1])\n",
    "\n",
    "# print_grid(grid)\n",
    "\n",
    "trailheads = []\n",
    "for row in range(len(grid)):\n",
    "    for col in range(len(grid[row])):\n",
    "        pos = col, row\n",
    "        if grid_get(grid, pos) == '0':\n",
    "            trailheads.append(pos)\n",
    "\n",
    "dir_list = [(-1, 0), (1, 0), (0, -1), (0, 1)]\n",
    "\n",
    "trail_positions = [{trailhead} for trailhead in trailheads]\n",
    "\n",
    "for height in range(9):\n",
    "    for index, positions in enumerate(trail_positions):\n",
    "        new_positions = set()\n",
    "        for pos in positions:\n",
    "            for dir in dir_list:\n",
    "                new_pos = add_pos(pos, dir)\n",
    "                if not valid_pos(grid, new_pos):\n",
    "                    continue\n",
    "                if int(grid_get(grid, new_pos)) != height + 1:\n",
    "                    continue\n",
    "                new_positions.add(new_pos)\n",
    "        trail_positions[index] = new_positions\n",
    "\n",
    "scores = [len(positions) for positions in trail_positions]\n",
    "# print(scores)\n",
    "\n",
    "print(\"Part 1 Result:\", sum(scores))"
   ]
  },
  {
   "cell_type": "code",
   "execution_count": 20,
   "metadata": {},
   "outputs": [
    {
     "name": "stdout",
     "output_type": "stream",
     "text": [
      "Part 2 Result: 1801\n"
     ]
    }
   ],
   "source": [
    "trail_positions = [[trailhead] for trailhead in trailheads]\n",
    "\n",
    "for height in range(9):\n",
    "    for index, positions in enumerate(trail_positions):\n",
    "        new_positions = []\n",
    "        for pos in positions:\n",
    "            for dir in dir_list:\n",
    "                new_pos = add_pos(pos, dir)\n",
    "                if not valid_pos(grid, new_pos):\n",
    "                    continue\n",
    "                if int(grid_get(grid, new_pos)) != height + 1:\n",
    "                    continue\n",
    "                new_positions.append(new_pos)\n",
    "        trail_positions[index] = new_positions\n",
    "\n",
    "scores = [len(positions) for positions in trail_positions]\n",
    "# print(scores)\n",
    "\n",
    "print(\"Part 2 Result:\", sum(scores))"
   ]
  },
  {
   "cell_type": "markdown",
   "metadata": {},
   "source": [
    "## --- Day 11: Plutonian Pebbles ---"
   ]
  },
  {
   "cell_type": "code",
   "execution_count": 21,
   "metadata": {},
   "outputs": [
    {
     "name": "stdout",
     "output_type": "stream",
     "text": [
      "Part 1 Result: 202019\n"
     ]
    }
   ],
   "source": [
    "with open('day_11_input.txt') as input:\n",
    "    stones = input.read().rstrip().split()\n",
    "# print(stones)\n",
    "\n",
    "current_stones = stones.copy()\n",
    "for n in range(25):\n",
    "    next_stones = []\n",
    "    for stone in current_stones:\n",
    "        if stone == '0':\n",
    "            next_stones.append('1')\n",
    "            continue\n",
    "        half_len = len(stone) // 2\n",
    "        if len(stone) / 2 == half_len:\n",
    "            next_stones.append(stone[:half_len])\n",
    "            next_stones.append(str(int(stone[half_len:])))\n",
    "            continue\n",
    "        next_stones.append(str(int(stone) * 2024))\n",
    "    current_stones = next_stones\n",
    "    # print(current_stones)\n",
    "\n",
    "print(\"Part 1 Result:\", len(current_stones))"
   ]
  },
  {
   "cell_type": "code",
   "execution_count": 22,
   "metadata": {},
   "outputs": [
    {
     "name": "stdout",
     "output_type": "stream",
     "text": [
      "Part 2 Result: 239321955280205\n"
     ]
    }
   ],
   "source": [
    "def add_stone_count(some_counts, stone, count):\n",
    "    if stone in some_counts:\n",
    "        some_counts[stone] = some_counts[stone] + count\n",
    "        return\n",
    "    some_counts[stone] = count\n",
    "\n",
    "stone_counts = dict()\n",
    "for stone in stones:\n",
    "    add_stone_count(stone_counts, stone, 1)\n",
    "# print(stone_counts)\n",
    "\n",
    "for n in range(75):\n",
    "    next_stone_counts = dict()\n",
    "    for stone, count in stone_counts.items():\n",
    "        if stone == '0':\n",
    "            add_stone_count(next_stone_counts, '1', count)\n",
    "            continue\n",
    "        half_len = len(stone) // 2\n",
    "        if len(stone) / 2 == half_len:\n",
    "            add_stone_count(next_stone_counts, stone[:half_len], count)\n",
    "            add_stone_count(next_stone_counts, str(int(stone[half_len:])), count)\n",
    "            continue\n",
    "        add_stone_count(next_stone_counts, str(int(stone) * 2024), count)\n",
    "    stone_counts = next_stone_counts\n",
    "    # print(stone_counts)\n",
    "\n",
    "print(\"Part 2 Result:\", sum(stone_counts.values()))"
   ]
  },
  {
   "cell_type": "markdown",
   "metadata": {},
   "source": [
    "## --- Day 12: Garden Groups ---"
   ]
  },
  {
   "cell_type": "code",
   "execution_count": 23,
   "metadata": {},
   "outputs": [
    {
     "name": "stdout",
     "output_type": "stream",
     "text": [
      "Part 1 Result: 1396298\n"
     ]
    }
   ],
   "source": [
    "with open('day_12_input.txt') as input:\n",
    "    grid = [[c for c in line.rstrip()] for line in input.readlines()]\n",
    "\n",
    "def print_grid(some_grid):\n",
    "    for row in some_grid:\n",
    "        print(''.join(row))\n",
    "\n",
    "def valid_pos(some_grid, pos):\n",
    "    return pos[1] >= 0 and pos[1] < len(some_grid) and pos[0] >= 0 and pos[0] < len(some_grid[pos[1]])\n",
    "\n",
    "def grid_get(some_grid, pos):\n",
    "    return some_grid[pos[1]][pos[0]]\n",
    "\n",
    "def grid_set(some_grid, pos, c):\n",
    "    some_grid[pos[1]][pos[0]] = c\n",
    "\n",
    "def add_pos(a, b):\n",
    "    return (a[0] + b[0], a[1] + b[1])\n",
    "\n",
    "# print_grid(grid)\n",
    "\n",
    "dir_list = [(-1, 0), (1, 0), (0, -1), (0, 1)]\n",
    "\n",
    "def find_next(some_grid):\n",
    "    for y, row in enumerate(some_grid):\n",
    "        for x, c in enumerate(row):\n",
    "            if c != '.':\n",
    "                return c, (x, y)\n",
    "    return None\n",
    "\n",
    "working_grid = [row.copy() for row in grid]\n",
    "\n",
    "tally = 0\n",
    "while next_plant := find_next(working_grid):\n",
    "    plant, pos = next_plant\n",
    "    \n",
    "    visited_list = set()\n",
    "    pos_set = {pos}\n",
    "    perimeter = 0\n",
    "    while pos_set:\n",
    "        next_pos_set = set()\n",
    "        for pos in pos_set:\n",
    "            visited_list.add(pos)\n",
    "            grid_set(working_grid, pos, '.')\n",
    "            for dir in dir_list:\n",
    "                next_pos = add_pos(pos, dir)\n",
    "                if next_pos in visited_list:\n",
    "                    continue\n",
    "                if not valid_pos(working_grid, next_pos):\n",
    "                    perimeter += 1\n",
    "                    continue\n",
    "                if grid_get(working_grid, next_pos) != plant:\n",
    "                    perimeter += 1\n",
    "                    continue\n",
    "                next_pos_set.add(next_pos) \n",
    "        pos_set = next_pos_set\n",
    "\n",
    "    area = len(visited_list)\n",
    "    tally += area * perimeter\n",
    "\n",
    "    # print_grid(working_grid)\n",
    "    # print(area, perimeter)\n",
    "\n",
    "print(\"Part 1 Result:\", tally)"
   ]
  },
  {
   "cell_type": "code",
   "execution_count": 24,
   "metadata": {},
   "outputs": [
    {
     "name": "stdout",
     "output_type": "stream",
     "text": [
      "Part 2 Result: 853588\n"
     ]
    }
   ],
   "source": [
    "from collections import defaultdict\n",
    "\n",
    "working_grid = [row.copy() for row in grid]\n",
    "# print_grid(working_grid)\n",
    "\n",
    "tally = 0\n",
    "while next_plant := find_next(working_grid):\n",
    "    plant, pos = next_plant\n",
    "    \n",
    "    edge_table = defaultdict(list)\n",
    "    visited_list = set()\n",
    "    pos_set = {pos}\n",
    "    while pos_set:\n",
    "        next_pos_set = set()\n",
    "        for pos in pos_set:\n",
    "            visited_list.add(pos)\n",
    "            grid_set(working_grid, pos, '.')\n",
    "            for dir in dir_list:\n",
    "                next_pos = add_pos(pos, dir)\n",
    "                if next_pos in visited_list:\n",
    "                    continue\n",
    "                if not valid_pos(working_grid, next_pos):\n",
    "                    edge_table[dir].append(pos)\n",
    "                    continue\n",
    "                if grid_get(working_grid, next_pos) != plant:\n",
    "                    edge_table[dir].append(pos)\n",
    "                    continue\n",
    "                next_pos_set.add(next_pos) \n",
    "        pos_set = next_pos_set\n",
    "\n",
    "    sides = 0\n",
    "    for dir in dir_list:\n",
    "        side_table = defaultdict(list)\n",
    "        if dir[1] == 0:\n",
    "            for x, y in edge_table[dir]:\n",
    "                side_table[x].append(y)\n",
    "        else:\n",
    "            for x, y in edge_table[(dir)]:\n",
    "                side_table[y].append(x)\n",
    "        for val in side_table.values():\n",
    "            n_list = sorted(val)\n",
    "            sides += 1\n",
    "            prev_n = n_list[0]\n",
    "            for n in n_list[1:]:\n",
    "                if n != prev_n + 1:\n",
    "                    sides += 1\n",
    "                prev_n = n\n",
    "\n",
    "    area = len(visited_list)\n",
    "    tally += area * sides\n",
    "\n",
    "    # print_grid(working_grid)\n",
    "    # print(area, sides)\n",
    "\n",
    "print(\"Part 2 Result:\", tally)"
   ]
  },
  {
   "cell_type": "markdown",
   "metadata": {},
   "source": [
    "## --- Day 13: Claw Contraption ---"
   ]
  },
  {
   "cell_type": "code",
   "execution_count": 25,
   "metadata": {},
   "outputs": [
    {
     "name": "stdout",
     "output_type": "stream",
     "text": [
      "Part 1 Result: 27105\n"
     ]
    }
   ],
   "source": [
    "with open('day_13_input.txt') as input:\n",
    "    lines = [line.rstrip() for line in input.readlines()]\n",
    "\n",
    "def parse_line(line: str, sym: str):\n",
    "    x, y = line.split(': ')[1].split(', ')\n",
    "    return int(x.split(sym)[1]), int(y.split(sym)[1])\n",
    "\n",
    "a_list = [parse_line(line, '+') for line in lines[0::4]]\n",
    "b_list = [parse_line(line, '+') for line in lines[1::4]]\n",
    "p_list = [parse_line(line, '=') for line in lines[2::4]]\n",
    "\n",
    "# solve system of 2 equations in 2 unknowns using 2 x 2 matrix inversion\n",
    "def solve_weights(a, b, c):\n",
    "    det = a[0] * b[1] - a[1]  * b[0]\n",
    "    return (c[0] * b[1] - c[1] * b[0]) / det, (c[1] * a[0] - c[0] * a[1]) / det\n",
    "\n",
    "def total_cost(a_list, b_list, p_list):\n",
    "    tokens = 0\n",
    "    for a, b, c in zip(a_list, b_list, p_list):\n",
    "        w = solve_weights(a, b, c)\n",
    "        n, m = round(w[0]), round(w[1])\n",
    "        if n * a[0] + m * b[0] == c[0] and n * a[1] + m * b[1] == c[1]:\n",
    "            tokens += n * 3 + m\n",
    "    return tokens\n",
    "\n",
    "print(\"Part 1 Result:\", total_cost(a_list, b_list, p_list))"
   ]
  },
  {
   "cell_type": "code",
   "execution_count": 26,
   "metadata": {},
   "outputs": [
    {
     "name": "stdout",
     "output_type": "stream",
     "text": [
      "Part 2 Result: 101726882250942\n"
     ]
    }
   ],
   "source": [
    "offset = 10000000000000\n",
    "offset_p_list = [add_pos(p, (offset, offset)) for p in p_list]\n",
    "\n",
    "print(\"Part 2 Result:\", total_cost(a_list, b_list, offset_p_list))"
   ]
  },
  {
   "cell_type": "markdown",
   "metadata": {},
   "source": [
    "## --- Day 14: Restroom Redoubt ---"
   ]
  },
  {
   "cell_type": "code",
   "execution_count": 27,
   "metadata": {},
   "outputs": [
    {
     "name": "stdout",
     "output_type": "stream",
     "text": [
      "Part 1 Result: 215476074\n"
     ]
    }
   ],
   "source": [
    "from collections import defaultdict\n",
    "\n",
    "# filename, width, height = 'example_input.txt', 11, 7\n",
    "filename, width, height = 'day_14_input.txt', 101, 103\n",
    "\n",
    "with open(filename) as input:\n",
    "    lines = [line.rstrip() for line in input.readlines()]\n",
    "# print('\\n'.join(lines))\n",
    "\n",
    "def add_pos_and_wrap(a, b):\n",
    "    return (a[0] + b[0]) % width, (a[1] + b[1]) % height\n",
    "\n",
    "robots = [[tuple(int(x) for x in val.split('=')[1].split(',')) for val in line.split(' ')] for line in lines]\n",
    "\n",
    "locations = defaultdict(lambda: 0)\n",
    "for pos, vel in robots:\n",
    "    step = vel[0] * 100, vel[1] * 100\n",
    "    locations[add_pos_and_wrap(pos, step)] += 1\n",
    "\n",
    "x_center = width // 2\n",
    "y_center = height // 2\n",
    "quads = [0, 0, 0, 0]\n",
    "for pos, count in locations.items():\n",
    "    # print(pos, count)\n",
    "    if pos[0] == x_center or pos[1] == y_center:\n",
    "        continue\n",
    "    if pos[0] < x_center:\n",
    "        if pos[1] < y_center:\n",
    "            quads[0] += count\n",
    "        else:\n",
    "            quads[2] += count\n",
    "    else:\n",
    "        if pos[1] < y_center:\n",
    "            quads[1] += count\n",
    "        else:\n",
    "            quads[3] += count\n",
    "\n",
    "# print(quads)\n",
    "\n",
    "a, b, c, d = quads\n",
    "print(\"Part 1 Result:\", a * b * c * d)"
   ]
  },
  {
   "cell_type": "code",
   "execution_count": 28,
   "metadata": {},
   "outputs": [
    {
     "name": "stdout",
     "output_type": "stream",
     "text": [
      "Part 2 Result: 6285\n"
     ]
    }
   ],
   "source": [
    "repeat = width * height\n",
    "# print(width, 'x', height, '=', repeat)\n",
    "\n",
    "# For this input data:\n",
    "# - Observed something \"interesting\" in the grid horizontally every multiple of height starting at 2\n",
    "# - Observed something \"interesting\" in the grid vertically every multiple of width starting at 23\n",
    "th = {t for t in range(2, repeat, height)}\n",
    "tw = {t for t in range(23, repeat, width)}\n",
    "# t_list = sorted(th.union(tw))\n",
    "\n",
    "# Find the first integral time where both are satisfied:\n",
    "for t in th:\n",
    "    if t in tw:\n",
    "        break\n",
    "t_list = [t]\n",
    "\n",
    "def print_grid(some_grid):\n",
    "    for row in some_grid:\n",
    "        print(''.join(str(c) if c != 0 else '.' for c in row ))\n",
    "\n",
    "def grid_inc(some_grid, pos):\n",
    "    some_grid[pos[1]][pos[0]] += 1\n",
    "\n",
    "def print_grid_at_times():\n",
    "    for t in t_list:\n",
    "        print(\"Elapsed time:\", t, \"seconds\")\n",
    "        grid = [[0 for _ in range(width)] for __ in range(height)]\n",
    "        for pos, vel in robots:\n",
    "            step = vel[0] * t, vel[1] * t\n",
    "            new_pos = add_pos_and_wrap(pos, step)\n",
    "            locations[new_pos] += 1\n",
    "            grid_inc(grid, new_pos)\n",
    "        print_grid(grid)\n",
    "\n",
    "# print_grid_at_times()\n",
    "\n",
    "print(\"Part 2 Result:\", t_list[0])"
   ]
  },
  {
   "cell_type": "markdown",
   "metadata": {},
   "source": [
    "## --- Day 15: Warehouse Woes ---"
   ]
  },
  {
   "cell_type": "code",
   "execution_count": 29,
   "metadata": {},
   "outputs": [
    {
     "name": "stdout",
     "output_type": "stream",
     "text": [
      "Part 1 Result: 1383666\n"
     ]
    }
   ],
   "source": [
    "with open('day_15_input.txt') as input:\n",
    "    lines = [line.rstrip() for line in input.readlines()]\n",
    "separator = lines.index('')\n",
    "\n",
    "def print_grid(some_grid):\n",
    "    for row in some_grid:\n",
    "        print(''.join(row))\n",
    "\n",
    "def grid_get(some_grid, pos):\n",
    "    return some_grid[pos[1]][pos[0]]\n",
    "\n",
    "def grid_put(some_grid, pos, val):\n",
    "    some_grid[pos[1]][pos[0]] = val\n",
    "\n",
    "def add_pos(a, b):\n",
    "    return a[0] + b[0], a[1] + b[1]\n",
    "\n",
    "def sub_pos(a, b):\n",
    "    return a[0] - b[0], a[1] - b[1]\n",
    "\n",
    "def grid_find(some_grid, val):\n",
    "    for y, row in enumerate(some_grid):\n",
    "        for x, c in enumerate(row):\n",
    "            if c == val:\n",
    "                return x, y\n",
    "    return None\n",
    "\n",
    "def grid_dir_push(some_grid, dir, start_pos):\n",
    "    space_pos = None\n",
    "    next_pos = add_pos(start_pos, dir)\n",
    "    while grid_get(some_grid, next_pos) != '#':\n",
    "        if grid_get(some_grid, next_pos) == '.':\n",
    "            space_pos = next_pos\n",
    "            break\n",
    "        next_pos = add_pos(next_pos, dir)\n",
    "    if not space_pos:\n",
    "        return None\n",
    "    pos = space_pos\n",
    "    while pos != start_pos:\n",
    "        prev_pos = sub_pos(pos, dir)\n",
    "        grid_put(some_grid, pos, grid_get(some_grid, prev_pos))\n",
    "        pos = prev_pos\n",
    "    grid_put(some_grid, start_pos, '.')\n",
    "    return add_pos(start_pos, dir)\n",
    "\n",
    "grid = [[c for c in line] for line in lines[:separator]]\n",
    "\n",
    "dir_table = {'<': (-1, 0), '>': (1, 0), '^': (0, -1), 'v': (0, 1)}\n",
    "\n",
    "directions = [dir_table[c] for line in lines[separator + 1:] for c in line]\n",
    "# print(directions)\n",
    "\n",
    "working_grid = [row.copy() for row in grid]\n",
    "# print_grid(working_grid)\n",
    "\n",
    "start_pos = grid_find(working_grid, '@')\n",
    "# print(start_pos)\n",
    "\n",
    "pos = start_pos\n",
    "for dir in directions:\n",
    "    next_pos = grid_dir_push(working_grid, dir, pos)\n",
    "    if not next_pos:\n",
    "        continue\n",
    "    pos = next_pos\n",
    "\n",
    "# print_grid(working_grid)\n",
    "\n",
    "tally = 0\n",
    "for y, row in enumerate(working_grid):\n",
    "    for x, c in enumerate(row):\n",
    "        if c == 'O':\n",
    "            tally += 100 * y + x\n",
    "\n",
    "print(\"Part 1 Result:\", tally)"
   ]
  },
  {
   "cell_type": "code",
   "execution_count": 30,
   "metadata": {},
   "outputs": [
    {
     "name": "stdout",
     "output_type": "stream",
     "text": [
      "Part 2 Result: 1412866\n"
     ]
    }
   ],
   "source": [
    "expansion_table = {'#': '##', 'O': '[]', '.': '..', '@': '@.'}\n",
    "\n",
    "working_grid = []\n",
    "for row in grid:\n",
    "    new_row = []\n",
    "    for val in row:\n",
    "        new_row.extend([c for c in expansion_table[val]])\n",
    "    working_grid.append(new_row)\n",
    "\n",
    "# print_grid(working_grid)\n",
    "\n",
    "def grid_can_push(some_grid, dir, start_pos):\n",
    "    next_pos = add_pos(start_pos, dir)\n",
    "    sym = grid_get(some_grid, next_pos)\n",
    "    if sym == '#':\n",
    "        return None\n",
    "    if sym == '.':\n",
    "        return [start_pos]\n",
    "    if dir[1] == 0:\n",
    "        # left/right\n",
    "        also_pushed = grid_can_push(some_grid, dir, next_pos)\n",
    "        if not also_pushed:\n",
    "            return None\n",
    "        return [*also_pushed, start_pos]\n",
    "    # up/down\n",
    "    if sym == '[':\n",
    "        left = grid_can_push(some_grid, dir, next_pos)\n",
    "        right = grid_can_push(some_grid, dir, add_pos(next_pos, (1, 0)))\n",
    "    else:\n",
    "        left = grid_can_push(some_grid, dir, add_pos(next_pos, (-1, 0)))\n",
    "        right = grid_can_push(some_grid, dir, next_pos)\n",
    "    if not left or not right:\n",
    "        return None\n",
    "    also_pushed = left.copy()\n",
    "    for right_pos in right:\n",
    "        if not right_pos in also_pushed:\n",
    "            also_pushed.append(right_pos)\n",
    "    return [*also_pushed, start_pos]\n",
    "\n",
    "def grid_move(some_grid, dir, pos_list):\n",
    "    for pos in pos_list:\n",
    "        next_pos = add_pos(pos, dir)\n",
    "        grid_put(some_grid, next_pos, grid_get(some_grid, pos))\n",
    "        grid_put(some_grid, pos, '.')\n",
    "\n",
    "start_pos = grid_find(working_grid, '@')\n",
    "pos = start_pos\n",
    "for dir in directions:\n",
    "    # print(pos, dir)\n",
    "    pushed = grid_can_push(working_grid, dir, pos)\n",
    "    if pushed:\n",
    "        # print(pushed)\n",
    "        grid_move(working_grid, dir, pushed)\n",
    "        pos = add_pos(pos, dir)\n",
    "        # print_grid(working_grid)\n",
    "\n",
    "# print_grid(working_grid)\n",
    "\n",
    "tally = 0\n",
    "for y, row in enumerate(working_grid):\n",
    "    for x, c in enumerate(row):\n",
    "        if c == '[':\n",
    "            tally += 100 * y + x\n",
    "\n",
    "print(\"Part 2 Result:\", tally)"
   ]
  },
  {
   "cell_type": "markdown",
   "metadata": {},
   "source": [
    "## --- Day 16: Reindeer Maze ---"
   ]
  },
  {
   "cell_type": "code",
   "execution_count": 31,
   "metadata": {},
   "outputs": [
    {
     "name": "stdout",
     "output_type": "stream",
     "text": [
      "Part 1 Result: 111480\n"
     ]
    }
   ],
   "source": [
    "import heapq\n",
    "\n",
    "with open('day_16_input.txt') as input:\n",
    "    grid = [[c for c in line.rstrip()] for line in input.readlines()]\n",
    "\n",
    "def print_grid(some_grid):\n",
    "    for row in some_grid:\n",
    "        print(''.join(row))\n",
    "\n",
    "def grid_find(some_grid, val):\n",
    "    for y, row in enumerate(some_grid):\n",
    "        for x, c in enumerate(row):\n",
    "            if c == val:\n",
    "                return x, y\n",
    "    return None\n",
    "\n",
    "def grid_get(some_grid, pos):\n",
    "    return some_grid[pos[1]][pos[0]]\n",
    "\n",
    "def grid_put(some_grid, pos, val):\n",
    "    some_grid[pos[1]][pos[0]] = val\n",
    "\n",
    "def add_pos(a, b):\n",
    "    return a[0] + b[0], a[1] + b[1]\n",
    "\n",
    "# print_grid(grid)\n",
    "\n",
    "facing_dir_table = {'W': (-1, 0), 'E': (1, 0), 'N': (0, -1), 'S': (0, 1)}\n",
    "cost_table = {\n",
    "    'N': {'N':    1, 'S': 2001, 'E': 1001, 'W': 1001},\n",
    "    'S': {'N': 2001, 'S':    1, 'E': 1001, 'W': 1001},\n",
    "    'E': {'N': 1001, 'S': 1001, 'E':    1, 'W': 2001},\n",
    "    'W': {'N': 1001, 'S': 1001, 'E': 2001, 'W':    1}}\n",
    "\n",
    "start_facing = 'E'\n",
    "start_pos = grid_find(grid, 'S')\n",
    "end_pos = grid_find(grid, 'E')\n",
    "# print(start_pos, end_pos)\n",
    "\n",
    "# Dijkstra's Algorithm\n",
    "min_score = None\n",
    "node = (start_pos, start_facing)\n",
    "settled_law = dict()\n",
    "open_list = []\n",
    "heapq.heappush(open_list, (0, node, []))\n",
    "while open_list:\n",
    "    score, node, parents = heapq.heappop(open_list)\n",
    "    settled_law[node] = score, parents\n",
    "    pos, facing = node\n",
    "    if min_score and score > min_score:\n",
    "        break\n",
    "    if pos == end_pos:\n",
    "        min_score = score\n",
    "    for new_facing, dir in facing_dir_table.items():\n",
    "        new_pos = add_pos(pos, dir)\n",
    "        new_node = (new_pos, new_facing)\n",
    "        if new_node in settled_law:\n",
    "            continue\n",
    "        if grid_get(grid, new_pos) == '#':\n",
    "            continue\n",
    "        new_score = score + cost_table[facing][new_facing]\n",
    "        open_list_nodes = [item[1] for item in open_list]\n",
    "        if new_node in open_list_nodes:\n",
    "            index = open_list_nodes.index(new_node)\n",
    "            if new_score > open_list[index][0]:\n",
    "                continue\n",
    "            if new_score == open_list[index][0]:\n",
    "                open_list[index][2].append(node)\n",
    "                continue\n",
    "            open_list[index] = (new_score, new_node, [node])\n",
    "            heapq.heapify(open_list)\n",
    "            continue\n",
    "        heapq.heappush(open_list, (new_score, new_node, [node]))\n",
    "\n",
    "print(\"Part 1 Result:\", min_score)"
   ]
  },
  {
   "cell_type": "code",
   "execution_count": 32,
   "metadata": {},
   "outputs": [
    {
     "name": "stdout",
     "output_type": "stream",
     "text": [
      "Part 2 Result: 529\n"
     ]
    }
   ],
   "source": [
    "def trace_back(some_grid, some_parents):\n",
    "    for each_parent in some_parents:\n",
    "        pos = each_parent[0]\n",
    "        grid_put(some_grid, pos, 'O')\n",
    "        trace_back(some_grid, settled_law[each_parent][1])\n",
    "\n",
    "working_grid = [row.copy() for row in grid]\n",
    "\n",
    "grid_put(working_grid, end_pos, 'O')\n",
    "for facing in facing_dir_table:\n",
    "    if (end_pos, facing) in settled_law:\n",
    "        trace_back(working_grid, settled_law[end_pos, facing][1])\n",
    "\n",
    "# print_grid(working_grid)\n",
    "\n",
    "tally = 0\n",
    "for row in working_grid:\n",
    "    for val in row:\n",
    "        if val == 'O':\n",
    "            tally += 1\n",
    "\n",
    "print(\"Part 2 Result:\", tally)"
   ]
  }
 ],
 "metadata": {
  "kernelspec": {
   "display_name": "Python 3",
   "language": "python",
   "name": "python3"
  },
  "language_info": {
   "codemirror_mode": {
    "name": "ipython",
    "version": 3
   },
   "file_extension": ".py",
   "mimetype": "text/x-python",
   "name": "python",
   "nbconvert_exporter": "python",
   "pygments_lexer": "ipython3",
   "version": "3.9.6"
  }
 },
 "nbformat": 4,
 "nbformat_minor": 2
}
